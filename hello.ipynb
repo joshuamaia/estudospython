{
 "cells": [
  {
   "cell_type": "code",
   "execution_count": 2,
   "metadata": {},
   "outputs": [
    {
     "name": "stdout",
     "output_type": "stream",
     "text": [
      "O salário é 12000\n"
     ]
    }
   ],
   "source": [
    "salario = 12000\n",
    "print(f'O salário é {salario}')"
   ]
  },
  {
   "cell_type": "code",
   "execution_count": 3,
   "metadata": {},
   "outputs": [
    {
     "name": "stdout",
     "output_type": "stream",
     "text": [
      "9000\n",
      "<class 'int'>\n"
     ]
    }
   ],
   "source": [
    "divida = salario - 3000\n",
    "print(divida)\n",
    "print(type(divida))"
   ]
  }
 ],
 "metadata": {
  "kernelspec": {
   "display_name": "Python 3.10.7 64-bit",
   "language": "python",
   "name": "python3"
  },
  "language_info": {
   "codemirror_mode": {
    "name": "ipython",
    "version": 3
   },
   "file_extension": ".py",
   "mimetype": "text/x-python",
   "name": "python",
   "nbconvert_exporter": "python",
   "pygments_lexer": "ipython3",
   "version": "3.10.7"
  },
  "orig_nbformat": 4,
  "vscode": {
   "interpreter": {
    "hash": "2920d45c326deb0be34e460bb5ac2f69f82eaadb105b7d0bbeb72d7fd06eebb6"
   }
  }
 },
 "nbformat": 4,
 "nbformat_minor": 2
}
